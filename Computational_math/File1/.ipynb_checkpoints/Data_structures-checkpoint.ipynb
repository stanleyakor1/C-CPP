{
 "cells": [
  {
   "cell_type": "code",
   "execution_count": 13,
   "id": "b054cdab-f854-457f-8580-83db2a20b257",
   "metadata": {},
   "outputs": [
    {
     "name": "stdout",
     "output_type": "stream",
     "text": [
      "Overwriting main.h\n"
     ]
    }
   ],
   "source": [
    "%%file main.h\n",
    "#ifndef MAIN_H\n",
    "#define MAIN_H\n",
    "\n",
    "#include <vector>\n",
    "#include <iostream>\n",
    "#include <cmath>\n",
    "\n",
    "using namespace std;\n",
    "// does the same thing as a python linspace function\n",
    "vector<double> linspace(float a,float b,int N){\n",
    "    vector<double> vec;\n",
    "    double h = (b-a)/N;\n",
    "    for(int i=0;i<=N;i++){\n",
    "        vec.push_back(a+i*h);\n",
    "    }\n",
    "    return vec;\n",
    "\n",
    "}\n",
    "\n",
    "// does the same thing as a python arrange function\n",
    "vector<double> arrange(float a,float b,double h){\n",
    "    vector<double> vec;\n",
    "    int N = (b-a)/h;\n",
    "    for(int i=0;i<=N;i++){\n",
    "        vec.push_back(a+i*h);\n",
    "    }\n",
    "\n",
    "    return vec;\n",
    "}\n",
    "\n",
    "// computes the maximum error for each row and saves it in a vector\n",
    "vector<double>  Infnorm(double *a,double *b,int nrows,int ncols){\n",
    "    vector<double> error;\n",
    "    double max_colerror;\n",
    "   \n",
    "    for(int i=0;i<nrows;i++){\n",
    "        max_colerror = 0;\n",
    "\n",
    "        for(int j=0;j<ncols;j++){\n",
    "\n",
    "       \n",
    "      if(abs(*((a+i*ncols) + j)-*((b+i*ncols) + j))>max_colerror)\n",
    "      {\n",
    "         max_colerror =abs(*((a+i*ncols) + j)-*((b+i*ncols) + j));      \n",
    "      }\n",
    "       \n",
    "\n",
    "    }\n",
    "    error.push_back(max_colerror);\n",
    "    }\n",
    "    return error;\n",
    "}\n",
    "\n",
    "\n",
    "//computes the max value in a vector\n",
    "double MaxinArray(vector<double> &vec){\n",
    "    int N =vec.size();\n",
    "    double maxx = vec[0];\n",
    "    for(int i=1;i<N;i++){\n",
    "        if(vec[i]>maxx){\n",
    "            maxx=vec[i];\n",
    "        }\n",
    "    }\n",
    "    return maxx;\n",
    "}\n",
    "#endif  // MAIN_H\n"
   ]
  },
  {
   "cell_type": "code",
   "execution_count": null,
   "id": "0b012005-bde3-4013-a8df-535f211692ee",
   "metadata": {},
   "outputs": [],
   "source": []
  },
  {
   "cell_type": "code",
   "execution_count": 14,
   "id": "139c42c1-df6c-4055-902f-3846e0ee3e4a",
   "metadata": {},
   "outputs": [
    {
     "name": "stdout",
     "output_type": "stream",
     "text": [
      "Overwriting test.cpp\n"
     ]
    }
   ],
   "source": [
    "%%file test.cpp\n",
    "#include \"main.h\"\n",
    "using namespace std;\n",
    "int main()\n",
    "{\n",
    "    float a = 0.0, b =1.0;\n",
    "    int N = 100;\n",
    "    vector<double> x ;\n",
    "    \n",
    "   \n",
    "    x = linspace(a,b,N);\n",
    "    #if 0\n",
    "    for (int i = 0; i<x.size(); i++)\n",
    "        printf(\"x = %f\\n\", x[i]);\n",
    "    #endif\n",
    "    \n",
    "    return (0);\n",
    "}\n"
   ]
  },
  {
   "cell_type": "code",
   "execution_count": 15,
   "id": "8ab586ba-da1a-43a1-adea-b39a7e38ce82",
   "metadata": {},
   "outputs": [
    {
     "name": "stderr",
     "output_type": "stream",
     "text": [
      "rm: test.o: No such file or directory\n"
     ]
    }
   ],
   "source": [
    "%%bash \n",
    "rm test.o\n",
    "g++ -o test.o test.cpp\n",
    "./test.o"
   ]
  },
  {
   "cell_type": "code",
   "execution_count": null,
   "id": "34eb0c5e-2ca9-444c-ae0f-49502c4f25c1",
   "metadata": {},
   "outputs": [],
   "source": []
  }
 ],
 "metadata": {
  "kernelspec": {
   "display_name": "ipykernel",
   "language": "python",
   "name": "python3"
  },
  "language_info": {
   "codemirror_mode": {
    "name": "ipython",
    "version": 3
   },
   "file_extension": ".py",
   "mimetype": "text/x-python",
   "name": "python",
   "nbconvert_exporter": "python",
   "pygments_lexer": "ipython3",
   "version": "3.9.12"
  }
 },
 "nbformat": 4,
 "nbformat_minor": 5
}
